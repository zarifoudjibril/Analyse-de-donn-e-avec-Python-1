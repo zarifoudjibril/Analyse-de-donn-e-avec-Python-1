{
 "cells": [
  {
   "cell_type": "markdown",
   "id": "8207c67e-43e4-4132-8dce-6cf19a654fb4",
   "metadata": {},
   "source": [
    "# 3. Importer des librairies"
   ]
  },
  {
   "cell_type": "code",
   "execution_count": 1,
   "id": "451a50f8-3674-4574-a299-8ed46a63d8d7",
   "metadata": {},
   "outputs": [],
   "source": [
    "import pandas as pd"
   ]
  },
  {
   "cell_type": "code",
   "execution_count": 2,
   "id": "b845d8fe-6891-49e9-8833-2612952578f2",
   "metadata": {},
   "outputs": [],
   "source": [
    "import seaborn as sns"
   ]
  },
  {
   "cell_type": "code",
   "execution_count": 3,
   "id": "d2262b4e-70c5-4f61-b138-f7518eb2ae44",
   "metadata": {},
   "outputs": [],
   "source": [
    "import re"
   ]
  },
  {
   "cell_type": "code",
   "execution_count": 4,
   "id": "d9f1df8e-df2e-4b98-ad86-67a510c7187f",
   "metadata": {},
   "outputs": [],
   "source": [
    "from dateutil.relativedelta import relativedelta"
   ]
  },
  {
   "cell_type": "code",
   "execution_count": 5,
   "id": "edf206bc-537a-4727-a44f-d4e3e7c0d59a",
   "metadata": {},
   "outputs": [],
   "source": [
    "import numpy as np"
   ]
  },
  {
   "cell_type": "markdown",
   "id": "567531bc-5b00-4c35-a8de-078d33fc0505",
   "metadata": {},
   "source": [
    "# 4. Créer le dataframe"
   ]
  },
  {
   "cell_type": "code",
   "execution_count": 6,
   "id": "0505dfa0-f6e4-4529-88ba-9498a7001204",
   "metadata": {},
   "outputs": [],
   "source": [
    "df = pd.read_excel('donnee_milliardaires.xlsx',sheet_name='Sauvegarde')"
   ]
  },
  {
   "cell_type": "code",
   "execution_count": 7,
   "id": "beaa50cc-a3e4-4d12-bf7c-5eed25f3c9d1",
   "metadata": {},
   "outputs": [
    {
     "data": {
      "text/html": [
       "<div>\n",
       "<style scoped>\n",
       "    .dataframe tbody tr th:only-of-type {\n",
       "        vertical-align: middle;\n",
       "    }\n",
       "\n",
       "    .dataframe tbody tr th {\n",
       "        vertical-align: top;\n",
       "    }\n",
       "\n",
       "    .dataframe thead th {\n",
       "        text-align: right;\n",
       "    }\n",
       "</style>\n",
       "<table border=\"1\" class=\"dataframe\">\n",
       "  <thead>\n",
       "    <tr style=\"text-align: right;\">\n",
       "      <th></th>\n",
       "      <th>rang</th>\n",
       "      <th>categorie</th>\n",
       "      <th>prenomNom</th>\n",
       "      <th>pays</th>\n",
       "      <th>ville</th>\n",
       "      <th>source</th>\n",
       "      <th>domaine</th>\n",
       "      <th>luiMeme</th>\n",
       "      <th>genre</th>\n",
       "      <th>nom</th>\n",
       "      <th>...</th>\n",
       "      <th>revenuFinal</th>\n",
       "      <th>anneeNaissance</th>\n",
       "      <th>moisNaissance</th>\n",
       "      <th>jourNaissance</th>\n",
       "      <th>cpi_pays</th>\n",
       "      <th>pib_pays</th>\n",
       "      <th>esperance_ de_vie_pays</th>\n",
       "      <th>tax_revenue_pays</th>\n",
       "      <th>total_taux_imposition_pays</th>\n",
       "      <th>population_pays</th>\n",
       "    </tr>\n",
       "  </thead>\n",
       "  <tbody>\n",
       "    <tr>\n",
       "      <th>0</th>\n",
       "      <td>1</td>\n",
       "      <td>Mode &amp; Commerce</td>\n",
       "      <td>Bernard Arnault &amp; family</td>\n",
       "      <td>France</td>\n",
       "      <td>Paris</td>\n",
       "      <td>LVMH</td>\n",
       "      <td>Fashion &amp; Retail</td>\n",
       "      <td>False</td>\n",
       "      <td>H</td>\n",
       "      <td>Arnault</td>\n",
       "      <td>...</td>\n",
       "      <td>211000</td>\n",
       "      <td>1949</td>\n",
       "      <td>3</td>\n",
       "      <td>5</td>\n",
       "      <td>110.05</td>\n",
       "      <td>$2,715,518,274,227</td>\n",
       "      <td>82.5</td>\n",
       "      <td>24.2</td>\n",
       "      <td>60.7</td>\n",
       "      <td>67059887</td>\n",
       "    </tr>\n",
       "    <tr>\n",
       "      <th>1</th>\n",
       "      <td>2</td>\n",
       "      <td>Automobile</td>\n",
       "      <td>Elon Musk</td>\n",
       "      <td>États-Unis</td>\n",
       "      <td>Austin</td>\n",
       "      <td>Tesla, SpaceX</td>\n",
       "      <td>Automotive</td>\n",
       "      <td>True</td>\n",
       "      <td>H</td>\n",
       "      <td>Musk</td>\n",
       "      <td>...</td>\n",
       "      <td>180000</td>\n",
       "      <td>1971</td>\n",
       "      <td>6</td>\n",
       "      <td>28</td>\n",
       "      <td>117.24</td>\n",
       "      <td>$21,427,700,000,000</td>\n",
       "      <td>78.5</td>\n",
       "      <td>9.6</td>\n",
       "      <td>36.6</td>\n",
       "      <td>328239523</td>\n",
       "    </tr>\n",
       "    <tr>\n",
       "      <th>2</th>\n",
       "      <td>3</td>\n",
       "      <td>Technologie</td>\n",
       "      <td>Jeff Bezos</td>\n",
       "      <td>États-Unis</td>\n",
       "      <td>Medina</td>\n",
       "      <td>Amazon</td>\n",
       "      <td>Technology</td>\n",
       "      <td>True</td>\n",
       "      <td>H</td>\n",
       "      <td>Bezos</td>\n",
       "      <td>...</td>\n",
       "      <td>114000</td>\n",
       "      <td>1964</td>\n",
       "      <td>1</td>\n",
       "      <td>12</td>\n",
       "      <td>117.24</td>\n",
       "      <td>$21,427,700,000,000</td>\n",
       "      <td>78.5</td>\n",
       "      <td>9.6</td>\n",
       "      <td>36.6</td>\n",
       "      <td>328239523</td>\n",
       "    </tr>\n",
       "    <tr>\n",
       "      <th>3</th>\n",
       "      <td>4</td>\n",
       "      <td>Technologie</td>\n",
       "      <td>Larry Ellison</td>\n",
       "      <td>États-Unis</td>\n",
       "      <td>Lanai</td>\n",
       "      <td>Oracle</td>\n",
       "      <td>Technology</td>\n",
       "      <td>True</td>\n",
       "      <td>H</td>\n",
       "      <td>Ellison</td>\n",
       "      <td>...</td>\n",
       "      <td>107000</td>\n",
       "      <td>1944</td>\n",
       "      <td>8</td>\n",
       "      <td>17</td>\n",
       "      <td>117.24</td>\n",
       "      <td>$21,427,700,000,000</td>\n",
       "      <td>78.5</td>\n",
       "      <td>9.6</td>\n",
       "      <td>36.6</td>\n",
       "      <td>328239523</td>\n",
       "    </tr>\n",
       "    <tr>\n",
       "      <th>4</th>\n",
       "      <td>5</td>\n",
       "      <td>Finance &amp; Investissements</td>\n",
       "      <td>Warren Buffett</td>\n",
       "      <td>États-Unis</td>\n",
       "      <td>Omaha</td>\n",
       "      <td>Berkshire Hathaway</td>\n",
       "      <td>Finance &amp; Investments</td>\n",
       "      <td>True</td>\n",
       "      <td>H</td>\n",
       "      <td>Buffett</td>\n",
       "      <td>...</td>\n",
       "      <td>106000</td>\n",
       "      <td>1930</td>\n",
       "      <td>8</td>\n",
       "      <td>30</td>\n",
       "      <td>117.24</td>\n",
       "      <td>$21,427,700,000,000</td>\n",
       "      <td>78.5</td>\n",
       "      <td>9.6</td>\n",
       "      <td>36.6</td>\n",
       "      <td>328239523</td>\n",
       "    </tr>\n",
       "  </tbody>\n",
       "</table>\n",
       "<p>5 rows × 21 columns</p>\n",
       "</div>"
      ],
      "text/plain": [
       "   rang                  categorie                 prenomNom        pays  \\\n",
       "0     1            Mode & Commerce  Bernard Arnault & family      France   \n",
       "1     2                 Automobile                 Elon Musk  États-Unis   \n",
       "2     3                Technologie                Jeff Bezos  États-Unis   \n",
       "3     4                Technologie             Larry Ellison  États-Unis   \n",
       "4     5  Finance & Investissements            Warren Buffett  États-Unis   \n",
       "\n",
       "    ville              source                domaine  luiMeme genre      nom  \\\n",
       "0   Paris                LVMH       Fashion & Retail    False     H  Arnault   \n",
       "1  Austin       Tesla, SpaceX             Automotive     True     H     Musk   \n",
       "2  Medina              Amazon             Technology     True     H    Bezos   \n",
       "3   Lanai              Oracle             Technology     True     H  Ellison   \n",
       "4   Omaha  Berkshire Hathaway  Finance & Investments     True     H  Buffett   \n",
       "\n",
       "   ... revenuFinal  anneeNaissance  moisNaissance  jourNaissance  cpi_pays  \\\n",
       "0  ...      211000            1949              3              5    110.05   \n",
       "1  ...      180000            1971              6             28    117.24   \n",
       "2  ...      114000            1964              1             12    117.24   \n",
       "3  ...      107000            1944              8             17    117.24   \n",
       "4  ...      106000            1930              8             30    117.24   \n",
       "\n",
       "               pib_pays esperance_ de_vie_pays  tax_revenue_pays  \\\n",
       "0   $2,715,518,274,227                    82.5              24.2   \n",
       "1  $21,427,700,000,000                    78.5               9.6   \n",
       "2  $21,427,700,000,000                    78.5               9.6   \n",
       "3  $21,427,700,000,000                    78.5               9.6   \n",
       "4  $21,427,700,000,000                    78.5               9.6   \n",
       "\n",
       "   total_taux_imposition_pays  population_pays  \n",
       "0                        60.7         67059887  \n",
       "1                        36.6        328239523  \n",
       "2                        36.6        328239523  \n",
       "3                        36.6        328239523  \n",
       "4                        36.6        328239523  \n",
       "\n",
       "[5 rows x 21 columns]"
      ]
     },
     "execution_count": 7,
     "metadata": {},
     "output_type": "execute_result"
    }
   ],
   "source": [
    "df.head()"
   ]
  },
  {
   "cell_type": "code",
   "execution_count": 8,
   "id": "80f03699-e5fa-4966-9453-905f420e5790",
   "metadata": {},
   "outputs": [
    {
     "data": {
      "text/plain": [
       "(481, 21)"
      ]
     },
     "execution_count": 8,
     "metadata": {},
     "output_type": "execute_result"
    }
   ],
   "source": [
    "df.shape"
   ]
  },
  {
   "cell_type": "code",
   "execution_count": 9,
   "id": "5b0fc61d-0fb7-4332-b9c1-4af952d69235",
   "metadata": {},
   "outputs": [
    {
     "data": {
      "text/plain": [
       "rang                            int64\n",
       "categorie                      object\n",
       "prenomNom                      object\n",
       "pays                           object\n",
       "ville                          object\n",
       "source                         object\n",
       "domaine                        object\n",
       "luiMeme                          bool\n",
       "genre                          object\n",
       "nom                            object\n",
       "prenom                         object\n",
       "revenuFinal                     int64\n",
       "anneeNaissance                  int64\n",
       "moisNaissance                   int64\n",
       "jourNaissance                   int64\n",
       "cpi_pays                      float64\n",
       "pib_pays                       object\n",
       "esperance_ de_vie_pays        float64\n",
       "tax_revenue_pays              float64\n",
       "total_taux_imposition_pays    float64\n",
       "population_pays                 int64\n",
       "dtype: object"
      ]
     },
     "execution_count": 9,
     "metadata": {},
     "output_type": "execute_result"
    }
   ],
   "source": [
    "df.dtypes"
   ]
  },
  {
   "cell_type": "markdown",
   "id": "307afd89-3812-494c-a5d9-19526b3bb4a8",
   "metadata": {},
   "source": [
    "# 5. Nettoyage de données"
   ]
  },
  {
   "cell_type": "markdown",
   "id": "acc93087-8393-48a0-a6e8-0d78de8fe740",
   "metadata": {},
   "source": [
    "# 5.1. Données manquantes"
   ]
  },
  {
   "cell_type": "code",
   "execution_count": 10,
   "id": "f0fc3e04-733e-41e3-b95d-186bfe7b4da6",
   "metadata": {},
   "outputs": [
    {
     "data": {
      "text/plain": [
       "rang                          0\n",
       "categorie                     0\n",
       "prenomNom                     0\n",
       "pays                          0\n",
       "ville                         0\n",
       "source                        0\n",
       "domaine                       0\n",
       "luiMeme                       0\n",
       "genre                         0\n",
       "nom                           0\n",
       "prenom                        0\n",
       "revenuFinal                   0\n",
       "anneeNaissance                0\n",
       "moisNaissance                 0\n",
       "jourNaissance                 0\n",
       "cpi_pays                      0\n",
       "pib_pays                      0\n",
       "esperance_ de_vie_pays        0\n",
       "tax_revenue_pays              0\n",
       "total_taux_imposition_pays    0\n",
       "population_pays               0\n",
       "dtype: int64"
      ]
     },
     "execution_count": 10,
     "metadata": {},
     "output_type": "execute_result"
    }
   ],
   "source": [
    "df[df.isna()].count()"
   ]
  },
  {
   "cell_type": "markdown",
   "id": "90b6c838-b2f1-462e-acb4-58c3f27938bf",
   "metadata": {},
   "source": [
    "# 5.2. Suprimer les doublons"
   ]
  },
  {
   "cell_type": "code",
   "execution_count": 13,
   "id": "e86a803c-417d-4b0d-8adc-a32107232e05",
   "metadata": {},
   "outputs": [
    {
     "data": {
      "text/plain": [
       "rang                          6\n",
       "categorie                     6\n",
       "prenomNom                     6\n",
       "pays                          6\n",
       "ville                         6\n",
       "source                        6\n",
       "domaine                       6\n",
       "luiMeme                       6\n",
       "genre                         6\n",
       "nom                           6\n",
       "prenom                        6\n",
       "revenuFinal                   6\n",
       "anneeNaissance                6\n",
       "moisNaissance                 6\n",
       "jourNaissance                 6\n",
       "cpi_pays                      6\n",
       "pib_pays                      6\n",
       "esperance_ de_vie_pays        6\n",
       "tax_revenue_pays              6\n",
       "total_taux_imposition_pays    6\n",
       "population_pays               6\n",
       "dtype: int64"
      ]
     },
     "execution_count": 13,
     "metadata": {},
     "output_type": "execute_result"
    }
   ],
   "source": [
    "df[df.duplicated()].count()"
   ]
  },
  {
   "cell_type": "code",
   "execution_count": 14,
   "id": "b7831be2-5594-454e-bfff-7488e664bd14",
   "metadata": {},
   "outputs": [],
   "source": [
    "df = df.drop_duplicates()"
   ]
  },
  {
   "cell_type": "code",
   "execution_count": 15,
   "id": "bddb07dd-56a2-4404-a2c8-bbed2c58fc6b",
   "metadata": {},
   "outputs": [
    {
     "data": {
      "text/plain": [
       "(475, 21)"
      ]
     },
     "execution_count": 15,
     "metadata": {},
     "output_type": "execute_result"
    }
   ],
   "source": [
    "df.shape"
   ]
  },
  {
   "cell_type": "markdown",
   "id": "c78741f0-2f31-4c23-adb4-c6f5ce7d994c",
   "metadata": {},
   "source": [
    "# 5.3. Remplacer des valeurs"
   ]
  },
  {
   "cell_type": "code",
   "execution_count": 17,
   "id": "f67b9d5b-250e-494c-8cfe-d818d7942534",
   "metadata": {},
   "outputs": [
    {
     "data": {
      "text/plain": [
       "genre\n",
       "H    407\n",
       "F     68\n",
       "Name: count, dtype: int64"
      ]
     },
     "execution_count": 17,
     "metadata": {},
     "output_type": "execute_result"
    }
   ],
   "source": [
    "df['genre'].value_counts()"
   ]
  },
  {
   "cell_type": "code",
   "execution_count": 20,
   "id": "beea3b88-4541-4564-b64b-b23568be21a7",
   "metadata": {},
   "outputs": [],
   "source": [
    "df['genre'] = df['genre'].replace(to_replace=[r'^F$',r'^H$'],value=['femme','homme'],regex=True, inplace=False)"
   ]
  },
  {
   "cell_type": "code",
   "execution_count": 21,
   "id": "5dc44e21-4405-44bb-a806-b488c51e104f",
   "metadata": {},
   "outputs": [
    {
     "data": {
      "text/plain": [
       "genre\n",
       "homme    407\n",
       "femme     68\n",
       "Name: count, dtype: int64"
      ]
     },
     "execution_count": 21,
     "metadata": {},
     "output_type": "execute_result"
    }
   ],
   "source": [
    "df['genre'].value_counts()"
   ]
  },
  {
   "cell_type": "markdown",
   "id": "a09ce52b-fdd1-468b-92bc-1376c1285480",
   "metadata": {},
   "source": [
    "# 5.4. Ajuster le type de la colonne pib_pays"
   ]
  },
  {
   "cell_type": "code",
   "execution_count": 22,
   "id": "478a449c-d615-4742-91d5-8d649dced263",
   "metadata": {},
   "outputs": [
    {
     "data": {
      "text/plain": [
       "rang                            int64\n",
       "categorie                      object\n",
       "prenomNom                      object\n",
       "pays                           object\n",
       "ville                          object\n",
       "source                         object\n",
       "domaine                        object\n",
       "luiMeme                          bool\n",
       "genre                          object\n",
       "nom                            object\n",
       "prenom                         object\n",
       "revenuFinal                     int64\n",
       "anneeNaissance                  int64\n",
       "moisNaissance                   int64\n",
       "jourNaissance                   int64\n",
       "cpi_pays                      float64\n",
       "pib_pays                       object\n",
       "esperance_ de_vie_pays        float64\n",
       "tax_revenue_pays              float64\n",
       "total_taux_imposition_pays    float64\n",
       "population_pays                 int64\n",
       "dtype: object"
      ]
     },
     "execution_count": 22,
     "metadata": {},
     "output_type": "execute_result"
    }
   ],
   "source": [
    "df.dtypes"
   ]
  },
  {
   "cell_type": "code",
   "execution_count": 23,
   "id": "4c7957f9-2fbe-49ab-a23b-7f4828aed96b",
   "metadata": {},
   "outputs": [
    {
     "data": {
      "text/plain": [
       "0     $2,715,518,274,227 \n",
       "1    $21,427,700,000,000 \n",
       "Name: pib_pays, dtype: object"
      ]
     },
     "execution_count": 23,
     "metadata": {},
     "output_type": "execute_result"
    }
   ],
   "source": [
    "df['pib_pays'].head(2)"
   ]
  },
  {
   "cell_type": "code",
   "execution_count": 24,
   "id": "10cf706d-a6e1-433e-b090-ebb5f2f8914a",
   "metadata": {},
   "outputs": [
    {
     "ename": "ValueError",
     "evalue": "could not convert string to float: '$2,715,518,274,227 '",
     "output_type": "error",
     "traceback": [
      "\u001b[0;31m---------------------------------------------------------------------------\u001b[0m",
      "\u001b[0;31mValueError\u001b[0m                                Traceback (most recent call last)",
      "Cell \u001b[0;32mIn[24], line 1\u001b[0m\n\u001b[0;32m----> 1\u001b[0m \u001b[43mdf\u001b[49m\u001b[43m[\u001b[49m\u001b[38;5;124;43m'\u001b[39;49m\u001b[38;5;124;43mpib_pays\u001b[39;49m\u001b[38;5;124;43m'\u001b[39;49m\u001b[43m]\u001b[49m\u001b[38;5;241;43m.\u001b[39;49m\u001b[43mastype\u001b[49m\u001b[43m(\u001b[49m\u001b[38;5;124;43m'\u001b[39;49m\u001b[38;5;124;43mfloat64\u001b[39;49m\u001b[38;5;124;43m'\u001b[39;49m\u001b[43m)\u001b[49m\n",
      "File \u001b[0;32m~/miniconda3/envs/data-env/lib/python3.11/site-packages/pandas/core/generic.py:6643\u001b[0m, in \u001b[0;36mNDFrame.astype\u001b[0;34m(self, dtype, copy, errors)\u001b[0m\n\u001b[1;32m   6637\u001b[0m     results \u001b[38;5;241m=\u001b[39m [\n\u001b[1;32m   6638\u001b[0m         ser\u001b[38;5;241m.\u001b[39mastype(dtype, copy\u001b[38;5;241m=\u001b[39mcopy, errors\u001b[38;5;241m=\u001b[39merrors) \u001b[38;5;28;01mfor\u001b[39;00m _, ser \u001b[38;5;129;01min\u001b[39;00m \u001b[38;5;28mself\u001b[39m\u001b[38;5;241m.\u001b[39mitems()\n\u001b[1;32m   6639\u001b[0m     ]\n\u001b[1;32m   6641\u001b[0m \u001b[38;5;28;01melse\u001b[39;00m:\n\u001b[1;32m   6642\u001b[0m     \u001b[38;5;66;03m# else, only a single dtype is given\u001b[39;00m\n\u001b[0;32m-> 6643\u001b[0m     new_data \u001b[38;5;241m=\u001b[39m \u001b[38;5;28;43mself\u001b[39;49m\u001b[38;5;241;43m.\u001b[39;49m\u001b[43m_mgr\u001b[49m\u001b[38;5;241;43m.\u001b[39;49m\u001b[43mastype\u001b[49m\u001b[43m(\u001b[49m\u001b[43mdtype\u001b[49m\u001b[38;5;241;43m=\u001b[39;49m\u001b[43mdtype\u001b[49m\u001b[43m,\u001b[49m\u001b[43m \u001b[49m\u001b[43mcopy\u001b[49m\u001b[38;5;241;43m=\u001b[39;49m\u001b[43mcopy\u001b[49m\u001b[43m,\u001b[49m\u001b[43m \u001b[49m\u001b[43merrors\u001b[49m\u001b[38;5;241;43m=\u001b[39;49m\u001b[43merrors\u001b[49m\u001b[43m)\u001b[49m\n\u001b[1;32m   6644\u001b[0m     res \u001b[38;5;241m=\u001b[39m \u001b[38;5;28mself\u001b[39m\u001b[38;5;241m.\u001b[39m_constructor_from_mgr(new_data, axes\u001b[38;5;241m=\u001b[39mnew_data\u001b[38;5;241m.\u001b[39maxes)\n\u001b[1;32m   6645\u001b[0m     \u001b[38;5;28;01mreturn\u001b[39;00m res\u001b[38;5;241m.\u001b[39m__finalize__(\u001b[38;5;28mself\u001b[39m, method\u001b[38;5;241m=\u001b[39m\u001b[38;5;124m\"\u001b[39m\u001b[38;5;124mastype\u001b[39m\u001b[38;5;124m\"\u001b[39m)\n",
      "File \u001b[0;32m~/miniconda3/envs/data-env/lib/python3.11/site-packages/pandas/core/internals/managers.py:430\u001b[0m, in \u001b[0;36mBaseBlockManager.astype\u001b[0;34m(self, dtype, copy, errors)\u001b[0m\n\u001b[1;32m    427\u001b[0m \u001b[38;5;28;01melif\u001b[39;00m using_copy_on_write():\n\u001b[1;32m    428\u001b[0m     copy \u001b[38;5;241m=\u001b[39m \u001b[38;5;28;01mFalse\u001b[39;00m\n\u001b[0;32m--> 430\u001b[0m \u001b[38;5;28;01mreturn\u001b[39;00m \u001b[38;5;28;43mself\u001b[39;49m\u001b[38;5;241;43m.\u001b[39;49m\u001b[43mapply\u001b[49m\u001b[43m(\u001b[49m\n\u001b[1;32m    431\u001b[0m \u001b[43m    \u001b[49m\u001b[38;5;124;43m\"\u001b[39;49m\u001b[38;5;124;43mastype\u001b[39;49m\u001b[38;5;124;43m\"\u001b[39;49m\u001b[43m,\u001b[49m\n\u001b[1;32m    432\u001b[0m \u001b[43m    \u001b[49m\u001b[43mdtype\u001b[49m\u001b[38;5;241;43m=\u001b[39;49m\u001b[43mdtype\u001b[49m\u001b[43m,\u001b[49m\n\u001b[1;32m    433\u001b[0m \u001b[43m    \u001b[49m\u001b[43mcopy\u001b[49m\u001b[38;5;241;43m=\u001b[39;49m\u001b[43mcopy\u001b[49m\u001b[43m,\u001b[49m\n\u001b[1;32m    434\u001b[0m \u001b[43m    \u001b[49m\u001b[43merrors\u001b[49m\u001b[38;5;241;43m=\u001b[39;49m\u001b[43merrors\u001b[49m\u001b[43m,\u001b[49m\n\u001b[1;32m    435\u001b[0m \u001b[43m    \u001b[49m\u001b[43musing_cow\u001b[49m\u001b[38;5;241;43m=\u001b[39;49m\u001b[43musing_copy_on_write\u001b[49m\u001b[43m(\u001b[49m\u001b[43m)\u001b[49m\u001b[43m,\u001b[49m\n\u001b[1;32m    436\u001b[0m \u001b[43m\u001b[49m\u001b[43m)\u001b[49m\n",
      "File \u001b[0;32m~/miniconda3/envs/data-env/lib/python3.11/site-packages/pandas/core/internals/managers.py:363\u001b[0m, in \u001b[0;36mBaseBlockManager.apply\u001b[0;34m(self, f, align_keys, **kwargs)\u001b[0m\n\u001b[1;32m    361\u001b[0m         applied \u001b[38;5;241m=\u001b[39m b\u001b[38;5;241m.\u001b[39mapply(f, \u001b[38;5;241m*\u001b[39m\u001b[38;5;241m*\u001b[39mkwargs)\n\u001b[1;32m    362\u001b[0m     \u001b[38;5;28;01melse\u001b[39;00m:\n\u001b[0;32m--> 363\u001b[0m         applied \u001b[38;5;241m=\u001b[39m \u001b[38;5;28;43mgetattr\u001b[39;49m\u001b[43m(\u001b[49m\u001b[43mb\u001b[49m\u001b[43m,\u001b[49m\u001b[43m \u001b[49m\u001b[43mf\u001b[49m\u001b[43m)\u001b[49m\u001b[43m(\u001b[49m\u001b[38;5;241;43m*\u001b[39;49m\u001b[38;5;241;43m*\u001b[39;49m\u001b[43mkwargs\u001b[49m\u001b[43m)\u001b[49m\n\u001b[1;32m    364\u001b[0m     result_blocks \u001b[38;5;241m=\u001b[39m extend_blocks(applied, result_blocks)\n\u001b[1;32m    366\u001b[0m out \u001b[38;5;241m=\u001b[39m \u001b[38;5;28mtype\u001b[39m(\u001b[38;5;28mself\u001b[39m)\u001b[38;5;241m.\u001b[39mfrom_blocks(result_blocks, \u001b[38;5;28mself\u001b[39m\u001b[38;5;241m.\u001b[39maxes)\n",
      "File \u001b[0;32m~/miniconda3/envs/data-env/lib/python3.11/site-packages/pandas/core/internals/blocks.py:758\u001b[0m, in \u001b[0;36mBlock.astype\u001b[0;34m(self, dtype, copy, errors, using_cow, squeeze)\u001b[0m\n\u001b[1;32m    755\u001b[0m         \u001b[38;5;28;01mraise\u001b[39;00m \u001b[38;5;167;01mValueError\u001b[39;00m(\u001b[38;5;124m\"\u001b[39m\u001b[38;5;124mCan not squeeze with more than one column.\u001b[39m\u001b[38;5;124m\"\u001b[39m)\n\u001b[1;32m    756\u001b[0m     values \u001b[38;5;241m=\u001b[39m values[\u001b[38;5;241m0\u001b[39m, :]  \u001b[38;5;66;03m# type: ignore[call-overload]\u001b[39;00m\n\u001b[0;32m--> 758\u001b[0m new_values \u001b[38;5;241m=\u001b[39m \u001b[43mastype_array_safe\u001b[49m\u001b[43m(\u001b[49m\u001b[43mvalues\u001b[49m\u001b[43m,\u001b[49m\u001b[43m \u001b[49m\u001b[43mdtype\u001b[49m\u001b[43m,\u001b[49m\u001b[43m \u001b[49m\u001b[43mcopy\u001b[49m\u001b[38;5;241;43m=\u001b[39;49m\u001b[43mcopy\u001b[49m\u001b[43m,\u001b[49m\u001b[43m \u001b[49m\u001b[43merrors\u001b[49m\u001b[38;5;241;43m=\u001b[39;49m\u001b[43merrors\u001b[49m\u001b[43m)\u001b[49m\n\u001b[1;32m    760\u001b[0m new_values \u001b[38;5;241m=\u001b[39m maybe_coerce_values(new_values)\n\u001b[1;32m    762\u001b[0m refs \u001b[38;5;241m=\u001b[39m \u001b[38;5;28;01mNone\u001b[39;00m\n",
      "File \u001b[0;32m~/miniconda3/envs/data-env/lib/python3.11/site-packages/pandas/core/dtypes/astype.py:237\u001b[0m, in \u001b[0;36mastype_array_safe\u001b[0;34m(values, dtype, copy, errors)\u001b[0m\n\u001b[1;32m    234\u001b[0m     dtype \u001b[38;5;241m=\u001b[39m dtype\u001b[38;5;241m.\u001b[39mnumpy_dtype\n\u001b[1;32m    236\u001b[0m \u001b[38;5;28;01mtry\u001b[39;00m:\n\u001b[0;32m--> 237\u001b[0m     new_values \u001b[38;5;241m=\u001b[39m \u001b[43mastype_array\u001b[49m\u001b[43m(\u001b[49m\u001b[43mvalues\u001b[49m\u001b[43m,\u001b[49m\u001b[43m \u001b[49m\u001b[43mdtype\u001b[49m\u001b[43m,\u001b[49m\u001b[43m \u001b[49m\u001b[43mcopy\u001b[49m\u001b[38;5;241;43m=\u001b[39;49m\u001b[43mcopy\u001b[49m\u001b[43m)\u001b[49m\n\u001b[1;32m    238\u001b[0m \u001b[38;5;28;01mexcept\u001b[39;00m (\u001b[38;5;167;01mValueError\u001b[39;00m, \u001b[38;5;167;01mTypeError\u001b[39;00m):\n\u001b[1;32m    239\u001b[0m     \u001b[38;5;66;03m# e.g. _astype_nansafe can fail on object-dtype of strings\u001b[39;00m\n\u001b[1;32m    240\u001b[0m     \u001b[38;5;66;03m#  trying to convert to float\u001b[39;00m\n\u001b[1;32m    241\u001b[0m     \u001b[38;5;28;01mif\u001b[39;00m errors \u001b[38;5;241m==\u001b[39m \u001b[38;5;124m\"\u001b[39m\u001b[38;5;124mignore\u001b[39m\u001b[38;5;124m\"\u001b[39m:\n",
      "File \u001b[0;32m~/miniconda3/envs/data-env/lib/python3.11/site-packages/pandas/core/dtypes/astype.py:182\u001b[0m, in \u001b[0;36mastype_array\u001b[0;34m(values, dtype, copy)\u001b[0m\n\u001b[1;32m    179\u001b[0m     values \u001b[38;5;241m=\u001b[39m values\u001b[38;5;241m.\u001b[39mastype(dtype, copy\u001b[38;5;241m=\u001b[39mcopy)\n\u001b[1;32m    181\u001b[0m \u001b[38;5;28;01melse\u001b[39;00m:\n\u001b[0;32m--> 182\u001b[0m     values \u001b[38;5;241m=\u001b[39m \u001b[43m_astype_nansafe\u001b[49m\u001b[43m(\u001b[49m\u001b[43mvalues\u001b[49m\u001b[43m,\u001b[49m\u001b[43m \u001b[49m\u001b[43mdtype\u001b[49m\u001b[43m,\u001b[49m\u001b[43m \u001b[49m\u001b[43mcopy\u001b[49m\u001b[38;5;241;43m=\u001b[39;49m\u001b[43mcopy\u001b[49m\u001b[43m)\u001b[49m\n\u001b[1;32m    184\u001b[0m \u001b[38;5;66;03m# in pandas we don't store numpy str dtypes, so convert to object\u001b[39;00m\n\u001b[1;32m    185\u001b[0m \u001b[38;5;28;01mif\u001b[39;00m \u001b[38;5;28misinstance\u001b[39m(dtype, np\u001b[38;5;241m.\u001b[39mdtype) \u001b[38;5;129;01mand\u001b[39;00m \u001b[38;5;28missubclass\u001b[39m(values\u001b[38;5;241m.\u001b[39mdtype\u001b[38;5;241m.\u001b[39mtype, \u001b[38;5;28mstr\u001b[39m):\n",
      "File \u001b[0;32m~/miniconda3/envs/data-env/lib/python3.11/site-packages/pandas/core/dtypes/astype.py:133\u001b[0m, in \u001b[0;36m_astype_nansafe\u001b[0;34m(arr, dtype, copy, skipna)\u001b[0m\n\u001b[1;32m    129\u001b[0m     \u001b[38;5;28;01mraise\u001b[39;00m \u001b[38;5;167;01mValueError\u001b[39;00m(msg)\n\u001b[1;32m    131\u001b[0m \u001b[38;5;28;01mif\u001b[39;00m copy \u001b[38;5;129;01mor\u001b[39;00m arr\u001b[38;5;241m.\u001b[39mdtype \u001b[38;5;241m==\u001b[39m \u001b[38;5;28mobject\u001b[39m \u001b[38;5;129;01mor\u001b[39;00m dtype \u001b[38;5;241m==\u001b[39m \u001b[38;5;28mobject\u001b[39m:\n\u001b[1;32m    132\u001b[0m     \u001b[38;5;66;03m# Explicit copy, or required since NumPy can't view from / to object.\u001b[39;00m\n\u001b[0;32m--> 133\u001b[0m     \u001b[38;5;28;01mreturn\u001b[39;00m \u001b[43marr\u001b[49m\u001b[38;5;241;43m.\u001b[39;49m\u001b[43mastype\u001b[49m\u001b[43m(\u001b[49m\u001b[43mdtype\u001b[49m\u001b[43m,\u001b[49m\u001b[43m \u001b[49m\u001b[43mcopy\u001b[49m\u001b[38;5;241;43m=\u001b[39;49m\u001b[38;5;28;43;01mTrue\u001b[39;49;00m\u001b[43m)\u001b[49m\n\u001b[1;32m    135\u001b[0m \u001b[38;5;28;01mreturn\u001b[39;00m arr\u001b[38;5;241m.\u001b[39mastype(dtype, copy\u001b[38;5;241m=\u001b[39mcopy)\n",
      "\u001b[0;31mValueError\u001b[0m: could not convert string to float: '$2,715,518,274,227 '"
     ]
    }
   ],
   "source": [
    "df['pib_pays'].astype('float64')"
   ]
  },
  {
   "cell_type": "code",
   "execution_count": 33,
   "id": "23fe0a96-7afe-4708-a4f9-335ec611156f",
   "metadata": {},
   "outputs": [
    {
     "name": "stdout",
     "output_type": "stream",
     "text": [
      "$2,715,518,274,227  2715518274227\n"
     ]
    }
   ],
   "source": [
    "list_pib = df['pib_pays'].to_list()\n",
    "list_pib_nouv = []\n",
    "for el in list_pib:\n",
    "    el = re.sub(r'[^\\d]+','',el)\n",
    "    list_pib_nouv.append(el)\n",
    "print(list_pib[0],list_pib_nouv[0])\n"
   ]
  },
  {
   "cell_type": "code",
   "execution_count": 35,
   "id": "1116dfa9-8774-4aa6-886e-528c4a60dca6",
   "metadata": {},
   "outputs": [],
   "source": [
    "df['pib_pays'] = pd.Series(list_pib_nouv)"
   ]
  },
  {
   "cell_type": "code",
   "execution_count": 36,
   "id": "521d1da7-9d9d-45f9-973a-4105edf446f5",
   "metadata": {},
   "outputs": [],
   "source": [
    "df['pib_pays'] = df['pib_pays'].astype('float64')"
   ]
  },
  {
   "cell_type": "code",
   "execution_count": 37,
   "id": "74cf9070-4b25-4591-87c0-2b5bb09ab96d",
   "metadata": {},
   "outputs": [
    {
     "data": {
      "text/plain": [
       "dtype('float64')"
      ]
     },
     "execution_count": 37,
     "metadata": {},
     "output_type": "execute_result"
    }
   ],
   "source": [
    "df['pib_pays'].dtypes"
   ]
  },
  {
   "cell_type": "code",
   "execution_count": 38,
   "id": "28082906-ebc3-4db7-9b4d-72d61a85172c",
   "metadata": {},
   "outputs": [
    {
     "data": {
      "text/plain": [
       "0    2.715518e+12\n",
       "1    2.142770e+13\n",
       "2    2.142770e+13\n",
       "3    2.142770e+13\n",
       "4    2.142770e+13\n",
       "Name: pib_pays, dtype: float64"
      ]
     },
     "execution_count": 38,
     "metadata": {},
     "output_type": "execute_result"
    }
   ],
   "source": [
    "df['pib_pays'].head()"
   ]
  },
  {
   "cell_type": "markdown",
   "id": "8734cf5a-418b-44fb-83d6-0741e5d2fb2b",
   "metadata": {},
   "source": [
    "# 5.5. Ajouter la colonne âge"
   ]
  },
  {
   "cell_type": "code",
   "execution_count": 40,
   "id": "0d415e67-257f-4d32-ad44-fe074542d535",
   "metadata": {},
   "outputs": [
    {
     "data": {
      "text/plain": [
       "Index(['rang', 'categorie', 'prenomNom', 'pays', 'ville', 'source', 'domaine',\n",
       "       'luiMeme', 'genre', 'nom', 'prenom', 'revenuFinal', 'anneeNaissance',\n",
       "       'moisNaissance', 'jourNaissance', 'cpi_pays', 'pib_pays',\n",
       "       'esperance_ de_vie_pays', 'tax_revenue_pays',\n",
       "       'total_taux_imposition_pays', 'population_pays'],\n",
       "      dtype='object')"
      ]
     },
     "execution_count": 40,
     "metadata": {},
     "output_type": "execute_result"
    }
   ],
   "source": [
    "df.columns"
   ]
  },
  {
   "cell_type": "code",
   "execution_count": 41,
   "id": "46299698-f2fd-45a7-aede-7202b710602d",
   "metadata": {},
   "outputs": [],
   "source": [
    "df['dateNaissance'] = df['jourNaissance'].astype('str') + '-' + df['moisNaissance'].astype('str') + '-' + df['anneeNaissance'].astype('str')"
   ]
  },
  {
   "cell_type": "code",
   "execution_count": 42,
   "id": "4ec2598b-9960-468d-a841-f5eaacee9d8c",
   "metadata": {},
   "outputs": [
    {
     "data": {
      "text/plain": [
       "0     5-3-1949\n",
       "1    28-6-1971\n",
       "2    12-1-1964\n",
       "3    17-8-1944\n",
       "4    30-8-1930\n",
       "Name: dateNaissance, dtype: object"
      ]
     },
     "execution_count": 42,
     "metadata": {},
     "output_type": "execute_result"
    }
   ],
   "source": [
    "df['dateNaissance'].head()"
   ]
  },
  {
   "cell_type": "code",
   "execution_count": 43,
   "id": "f79201ce-981c-44e4-b578-99bc65608af3",
   "metadata": {},
   "outputs": [],
   "source": [
    "df['dateNaissance'] = pd.to_datetime(df['dateNaissance'],format='%d-%m-%Y')"
   ]
  },
  {
   "cell_type": "code",
   "execution_count": 44,
   "id": "8b7298ff-fe9e-4549-a740-fd05cd6d00fe",
   "metadata": {},
   "outputs": [
    {
     "data": {
      "text/plain": [
       "dtype('<M8[ns]')"
      ]
     },
     "execution_count": 44,
     "metadata": {},
     "output_type": "execute_result"
    }
   ],
   "source": [
    "df['dateNaissance'].dtypes"
   ]
  },
  {
   "cell_type": "code",
   "execution_count": 45,
   "id": "623bc6cc-9994-4f68-be5e-10c338c13dcd",
   "metadata": {},
   "outputs": [],
   "source": [
    "df['today'] = pd.to_datetime('now')"
   ]
  },
  {
   "cell_type": "code",
   "execution_count": 47,
   "id": "9dd14596-0997-4516-bdea-5a9583d2805e",
   "metadata": {},
   "outputs": [],
   "source": [
    "df['age'] = df.apply(lambda x: relativedelta(x.today,x.dateNaissance).years, axis=1)"
   ]
  },
  {
   "cell_type": "code",
   "execution_count": 48,
   "id": "8933f271-003c-48cf-b0b2-ae8676b9e937",
   "metadata": {},
   "outputs": [
    {
     "data": {
      "text/plain": [
       "0    75\n",
       "1    52\n",
       "2    60\n",
       "3    79\n",
       "4    93\n",
       "Name: age, dtype: int64"
      ]
     },
     "execution_count": 48,
     "metadata": {},
     "output_type": "execute_result"
    }
   ],
   "source": [
    "df['age'].head()"
   ]
  },
  {
   "cell_type": "markdown",
   "id": "e8c6e659-afbf-41bd-8b93-d5dd74086de6",
   "metadata": {},
   "source": [
    "# 6. Analyse des données"
   ]
  },
  {
   "cell_type": "markdown",
   "id": "0c9ce4a9-feb3-48d6-90a6-2d43804dc3fe",
   "metadata": {},
   "source": [
    "# 6.1. Lister le top 5 des milliardaires"
   ]
  },
  {
   "cell_type": "code",
   "execution_count": 49,
   "id": "65788971-3142-446f-bd6c-723aa059eb05",
   "metadata": {},
   "outputs": [
    {
     "data": {
      "text/plain": [
       "Index(['rang', 'categorie', 'prenomNom', 'pays', 'ville', 'source', 'domaine',\n",
       "       'luiMeme', 'genre', 'nom', 'prenom', 'revenuFinal', 'anneeNaissance',\n",
       "       'moisNaissance', 'jourNaissance', 'cpi_pays', 'pib_pays',\n",
       "       'esperance_ de_vie_pays', 'tax_revenue_pays',\n",
       "       'total_taux_imposition_pays', 'population_pays', 'dateNaissance',\n",
       "       'today', 'age'],\n",
       "      dtype='object')"
      ]
     },
     "execution_count": 49,
     "metadata": {},
     "output_type": "execute_result"
    }
   ],
   "source": [
    "df.columns"
   ]
  },
  {
   "cell_type": "code",
   "execution_count": 50,
   "id": "cbac5097-6273-4295-afbc-8d1eb0d45a89",
   "metadata": {},
   "outputs": [],
   "source": [
    "df = df.sort_values(by='revenuFinal',ascending=False)"
   ]
  },
  {
   "cell_type": "code",
   "execution_count": 51,
   "id": "f38167a5-0964-498a-8680-4c9077be022e",
   "metadata": {},
   "outputs": [
    {
     "data": {
      "text/html": [
       "<div>\n",
       "<style scoped>\n",
       "    .dataframe tbody tr th:only-of-type {\n",
       "        vertical-align: middle;\n",
       "    }\n",
       "\n",
       "    .dataframe tbody tr th {\n",
       "        vertical-align: top;\n",
       "    }\n",
       "\n",
       "    .dataframe thead th {\n",
       "        text-align: right;\n",
       "    }\n",
       "</style>\n",
       "<table border=\"1\" class=\"dataframe\">\n",
       "  <thead>\n",
       "    <tr style=\"text-align: right;\">\n",
       "      <th></th>\n",
       "      <th>prenomNom</th>\n",
       "      <th>revenuFinal</th>\n",
       "    </tr>\n",
       "  </thead>\n",
       "  <tbody>\n",
       "    <tr>\n",
       "      <th>0</th>\n",
       "      <td>Bernard Arnault &amp; family</td>\n",
       "      <td>211000</td>\n",
       "    </tr>\n",
       "    <tr>\n",
       "      <th>1</th>\n",
       "      <td>Elon Musk</td>\n",
       "      <td>180000</td>\n",
       "    </tr>\n",
       "    <tr>\n",
       "      <th>2</th>\n",
       "      <td>Jeff Bezos</td>\n",
       "      <td>114000</td>\n",
       "    </tr>\n",
       "    <tr>\n",
       "      <th>3</th>\n",
       "      <td>Larry Ellison</td>\n",
       "      <td>107000</td>\n",
       "    </tr>\n",
       "    <tr>\n",
       "      <th>4</th>\n",
       "      <td>Warren Buffett</td>\n",
       "      <td>106000</td>\n",
       "    </tr>\n",
       "  </tbody>\n",
       "</table>\n",
       "</div>"
      ],
      "text/plain": [
       "                  prenomNom  revenuFinal\n",
       "0  Bernard Arnault & family       211000\n",
       "1                 Elon Musk       180000\n",
       "2                Jeff Bezos       114000\n",
       "3             Larry Ellison       107000\n",
       "4            Warren Buffett       106000"
      ]
     },
     "execution_count": 51,
     "metadata": {},
     "output_type": "execute_result"
    }
   ],
   "source": [
    "df[['prenomNom','revenuFinal']].head()"
   ]
  },
  {
   "cell_type": "markdown",
   "id": "d333b785-290b-4ea6-b6e4-3111694d54a7",
   "metadata": {},
   "source": [
    "# 6.2. Le nombre de milliardaires par intervalle d'âge"
   ]
  },
  {
   "cell_type": "code",
   "execution_count": 53,
   "id": "4bc54709-e8e8-467e-9dc9-ee757583463e",
   "metadata": {},
   "outputs": [
    {
     "data": {
      "text/plain": [
       "(97, 32)"
      ]
     },
     "execution_count": 53,
     "metadata": {},
     "output_type": "execute_result"
    }
   ],
   "source": [
    "df['age'].max(),df['age'].min()"
   ]
  },
  {
   "cell_type": "code",
   "execution_count": 67,
   "id": "a65b3b6b-26d3-4988-9df5-9e38a397318c",
   "metadata": {},
   "outputs": [
    {
     "name": "stderr",
     "output_type": "stream",
     "text": [
      "/var/folders/xq/kk04cqfx4xd55xcsbgb8rkqc0000gp/T/ipykernel_1554/3983198760.py:4: FutureWarning: The default of observed=False is deprecated and will be changed to True in a future version of pandas. Pass observed=False to retain current behavior or observed=True to adopt the future default and silence this warning.\n",
      "  df_intervals = df_intervals['counts'].groupby(pd.cut(df_intervals['age'], bins=bins, labels=labels)).sum()\n"
     ]
    }
   ],
   "source": [
    "df_intervals = df['age'].value_counts().rename_axis('age').reset_index(name='counts')\n",
    "bins = [30,45,60,75,90,105]\n",
    "labels=['[30-45]','[45-60]','[60-75]','[75-90]','[90-105]']\n",
    "df_intervals = df_intervals['counts'].groupby(pd.cut(df_intervals['age'], bins=bins, labels=labels)).sum()"
   ]
  },
  {
   "cell_type": "code",
   "execution_count": 68,
   "id": "1ef87cd4-01eb-403d-b01a-8736e75166c6",
   "metadata": {},
   "outputs": [
    {
     "data": {
      "text/plain": [
       "age\n",
       "[30-45]      26\n",
       "[45-60]     122\n",
       "[60-75]     180\n",
       "[75-90]     125\n",
       "[90-105]     22\n",
       "Name: counts, dtype: int64"
      ]
     },
     "execution_count": 68,
     "metadata": {},
     "output_type": "execute_result"
    }
   ],
   "source": [
    "df_intervals"
   ]
  },
  {
   "cell_type": "markdown",
   "id": "96aed58f-01f5-4920-8efa-4a94b429271c",
   "metadata": {},
   "source": [
    "# 6.3. Visualisation des données"
   ]
  },
  {
   "cell_type": "code",
   "execution_count": 69,
   "id": "b1a2ad91-be4c-4c87-ad50-886220603b9a",
   "metadata": {},
   "outputs": [],
   "source": [
    "df5 = df[['prenomNom','revenuFinal']].head()"
   ]
  },
  {
   "cell_type": "code",
   "execution_count": 73,
   "id": "e17dc93e-fb89-4fe1-998f-22856102be54",
   "metadata": {},
   "outputs": [
    {
     "data": {
      "text/plain": [
       "<Axes: xlabel='prenomNom', ylabel='revenuFinal'>"
      ]
     },
     "execution_count": 73,
     "metadata": {},
     "output_type": "execute_result"
    },
    {
     "data": {
      "image/png": "[encoded data removed]",
      "text/plain": [
       "<Figure size 640x480 with 1 Axes>"
      ]
     },
     "metadata": {},
     "output_type": "display_data"
    }
   ],
   "source": [
    "sns.barplot(df5, x='prenomNom',y='revenuFinal', width=.5)"
   ]
  },
  {
   "cell_type": "code",
   "execution_count": 74,
   "id": "1c8b496c-8a4e-4350-9a52-9a7a4340d443",
   "metadata": {},
   "outputs": [
    {
     "data": {
      "text/plain": [
       "<Axes: xlabel='age', ylabel='counts'>"
      ]
     },
     "execution_count": 74,
     "metadata": {},
     "output_type": "execute_result"
    },
    {
     "data": {
      "image/png": "[encoded data removed]",
      "text/plain": [
       "<Figure size 640x480 with 1 Axes>"
      ]
     },
     "metadata": {},
     "output_type": "display_data"
    }
   ],
   "source": [
    "sns.barplot(df_intervals, color='green')"
   ]
  },
  {
   "cell_type": "code",
   "execution_count": null,
   "id": "b9b6a47a-a6ca-4224-b2a7-8fecb5d2282f",
   "metadata": {},
   "outputs": [],
   "source": []
  }
 ],
 "metadata": {
  "kernelspec": {
   "display_name": "Python 3 (ipykernel)",
   "language": "python",
   "name": "python3"
  },
  "language_info": {
   "codemirror_mode": {
    "name": "ipython",
    "version": 3
   },
   "file_extension": ".py",
   "mimetype": "text/x-python",
   "name": "python",
   "nbconvert_exporter": "python",
   "pygments_lexer": "ipython3",
   "version": "3.11.9"
  }
 },
 "nbformat": 4,
 "nbformat_minor": 5
}
